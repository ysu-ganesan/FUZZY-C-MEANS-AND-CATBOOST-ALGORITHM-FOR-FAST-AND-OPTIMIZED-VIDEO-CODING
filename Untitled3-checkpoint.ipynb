{
 "cells": [
  {
   "cell_type": "code",
   "execution_count": 1,
   "id": "98678c79",
   "metadata": {},
   "outputs": [
    {
     "data": {
      "application/vnd.jupyter.widget-view+json": {
       "model_id": "87c79973070841559c7346cb9ff4ed46",
       "version_major": 2,
       "version_minor": 0
      },
      "text/plain": [
       "MetricVisualizer(layout=Layout(align_self='stretch', height='500px'))"
      ]
     },
     "metadata": {},
     "output_type": "display_data"
    },
    {
     "data": {
      "text/plain": [
       "<catboost.core.CatBoostClassifier at 0x25ece9564d0>"
      ]
     },
     "execution_count": 1,
     "metadata": {},
     "output_type": "execute_result"
    }
   ],
   "source": [
    "from catboost import CatBoostClassifier, Pool\n",
    "\n",
    "train_data = [[1, 3], [0, 4], [1, 7], [0, 3]]\n",
    "train_labels = [1, 0, 1, 1]\n",
    "\n",
    "model = CatBoostClassifier(learning_rate=0.03)\n",
    "\n",
    "model.fit(train_data,\n",
    "       train_labels,\n",
    "       verbose=False,\n",
    "       plot=True)"
   ]
  },
  {
   "cell_type": "code",
   "execution_count": null,
   "id": "4d395fd3",
   "metadata": {},
   "outputs": [],
   "source": [
    "import catboost\n",
    "\n",
    "w = catboost.MetricVisualizer('/path/to/trains/1')\n",
    "w.start()"
   ]
  },
  {
   "cell_type": "code",
   "execution_count": null,
   "id": "d9946a32",
   "metadata": {},
   "outputs": [],
   "source": [
    " from catboost import CatBoostClassifier\n",
    "\n",
    "cat_features = [0,1,2]\n",
    "\n",
    "train_data = [[\"a\", \"b\", 1, 4, 5, 6],\n",
    "[\"a\", \"b\", 4, 5, 6, 7],\n",
    "[\"c\", \"d\", 30, 40, 50, 60]]\n",
    "\n",
    "train_labels = [1,1,0]\n",
    "\n",
    "model = CatBoostClassifier(iterations=20,\n",
    "loss_function = \"CrossEntropy\",\n",
    "train_dir = \"crossentropy\")\n",
    "\n",
    "model.fit(train_data, train_labels, cat_features)\n",
    "predictions = model.predict(train_data)"
   ]
  },
  {
   "cell_type": "code",
   "execution_count": null,
   "id": "39a0a930",
   "metadata": {},
   "outputs": [],
   "source": []
  },
  {
   "cell_type": "code",
   "execution_count": null,
   "id": "b5e379ab",
   "metadata": {},
   "outputs": [],
   "source": []
  }
 ],
 "metadata": {
  "kernelspec": {
   "display_name": "Python 3 (ipykernel)",
   "language": "python",
   "name": "python3"
  },
  "language_info": {
   "codemirror_mode": {
    "name": "ipython",
    "version": 3
   },
   "file_extension": ".py",
   "mimetype": "text/x-python",
   "name": "python",
   "nbconvert_exporter": "python",
   "pygments_lexer": "ipython3",
   "version": "3.10.4"
  }
 },
 "nbformat": 4,
 "nbformat_minor": 5
}
