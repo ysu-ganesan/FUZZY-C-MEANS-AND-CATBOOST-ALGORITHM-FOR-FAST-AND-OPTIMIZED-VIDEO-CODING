{
 "cells": [
  {
   "cell_type": "markdown",
   "metadata": {},
   "source": [
    "# Virtual playdate: video conference + YouTube player + Games"
   ]
  },
  {
   "cell_type": "code",
   "execution_count": 1,
   "metadata": {},
   "outputs": [
    {
     "data": {
      "text/html": [
       "\n",
       "<style>\n",
       "  #jitsiConferenceFrame0 {\n",
       "    position: fixed;\n",
       "    right: 0;\n",
       "    bottom: 0;\n",
       "    z-index: 100;\n",
       "    resize: both;\n",
       "    overflow: auto;\n",
       "  }\n",
       "</style>\n",
       "\n",
       "<button id='close-btn'>CLOSE</button>\n",
       "\n",
       "<script src='external/jitsi_api.js'></script>\n",
       "<script>\n",
       "\n",
       "opt = {\n",
       "    roomName: 'jina-jupyter-jitsi',\n",
       "    width: 250,\n",
       "    height: '100%',\n",
       "    parentNode: undefined,\n",
       "    interfaceConfigOverwrite: {\n",
       "      TILE_VIEW_MAX_COLUMNS: 1\n",
       "    }\n",
       "};\n",
       "jitsi = new window.JitsiMeetExternalAPI('meet.jit.si', opt);\n",
       "\n",
       "jitsi.executeCommand('toggleTileView');\n",
       "\n",
       "document.querySelector('#close-btn').addEventListener('click',\n",
       "  e => {\n",
       "      jitsi.executeCommand('hangup');\n",
       "      document.querySelector('#jitsiConferenceFrame0').remove();\n",
       "    });\n",
       "</script>\n"
      ],
      "text/plain": [
       "<IPython.core.display.HTML object>"
      ]
     },
     "metadata": {},
     "output_type": "display_data"
    }
   ],
   "source": [
    "# Embedded Jitsi meeting. Support most Zoom-like features.\n",
    "from IPython.display import HTML\n",
    "html = '''\n",
    "<style>\n",
    "  #jitsiConferenceFrame0 {\n",
    "    position: fixed;\n",
    "    right: 0;\n",
    "    bottom: 0;\n",
    "    z-index: 100;\n",
    "    resize: both;\n",
    "    overflow: auto;\n",
    "  }\n",
    "</style>\n",
    "\n",
    "<button id='close-btn'>CLOSE</button>\n",
    "\n",
    "<script src='external/jitsi_api.js'></script>\n",
    "<script>\n",
    "\n",
    "opt = {\n",
    "    roomName: 'jina-jupyter-jitsi',\n",
    "    width: 250,\n",
    "    height: '100%',\n",
    "    parentNode: undefined,\n",
    "    interfaceConfigOverwrite: {\n",
    "      TILE_VIEW_MAX_COLUMNS: 1\n",
    "    }\n",
    "};\n",
    "jitsi = new window.JitsiMeetExternalAPI('meet.jit.si', opt);\n",
    "\n",
    "jitsi.executeCommand('toggleTileView');\n",
    "\n",
    "document.querySelector('#close-btn').addEventListener('click',\n",
    "  e => {\n",
    "      jitsi.executeCommand('hangup');\n",
    "      document.querySelector('#jitsiConferenceFrame0').remove();\n",
    "    });\n",
    "</script>\n",
    "'''\n",
    "\n",
    "display(HTML(html))"
   ]
  },
  {
   "cell_type": "code",
   "execution_count": 2,
   "metadata": {},
   "outputs": [
    {
     "data": {
      "text/html": [
       "\n",
       "<iframe width=\"560\" height=\"315\" \n",
       "src=\"https://www.youtube.com/embed/KxA2vYdY5kM\" \n",
       "frameborder=\"0\" \n",
       "allow=\"accelerometer; autoplay; encrypted-media; gyroscope; picture-in-picture\" \n",
       "allowfullscreen>\n",
       "</iframe>\n"
      ],
      "text/plain": [
       "<IPython.core.display.HTML object>"
      ]
     },
     "metadata": {},
     "output_type": "display_data"
    }
   ],
   "source": [
    "# Embedded YouTube player. \n",
    "# Change \"src\" to play another YouTube video.\n",
    "\n",
    "ythtml = '''\n",
    "<iframe width=\"560\" height=\"315\" \n",
    "src=\"https://www.youtube.com/embed/KxA2vYdY5kM\" \n",
    "frameborder=\"0\" \n",
    "allow=\"accelerometer; autoplay; encrypted-media; gyroscope; picture-in-picture\" \n",
    "allowfullscreen>\n",
    "</iframe>\n",
    "'''\n",
    "\n",
    "display(HTML(ythtml))\n"
   ]
  },
  {
   "cell_type": "code",
   "execution_count": 3,
   "metadata": {},
   "outputs": [
    {
     "data": {
      "text/html": [
       "\n",
       "<iframe width='100%' height='700' src='https://play2048.co/'/>\n"
      ],
      "text/plain": [
       "<IPython.core.display.HTML object>"
      ]
     },
     "metadata": {},
     "output_type": "display_data"
    }
   ],
   "source": [
    "# Embedded HTML5 game \"2048\".\n",
    "html2048 = '''\n",
    "<iframe width='100%' height='700' src='https://play2048.co/'/>\n",
    "'''\n",
    "\n",
    "display(HTML(html2048))"
   ]
  },
  {
   "cell_type": "code",
   "execution_count": 4,
   "metadata": {},
   "outputs": [
    {
     "data": {
      "text/html": [
       "\n",
       "<iframe src='https://www.safekidgames.com/waffle/' width='100%' height='700'/>\n"
      ],
      "text/plain": [
       "<IPython.core.display.HTML object>"
      ]
     },
     "metadata": {},
     "output_type": "display_data"
    }
   ],
   "source": [
    "# Educational word game \"waffle\"\n",
    "\n",
    "waffle = '''\n",
    "<iframe src='https://www.safekidgames.com/waffle/' width='100%' height='700'/>\n",
    "'''\n",
    "display(HTML(waffle))"
   ]
  },
  {
   "cell_type": "code",
   "execution_count": 5,
   "metadata": {},
   "outputs": [
    {
     "data": {
      "text/html": [
       "\n",
       "<iframe src='https://www.safekidgames.com/pac-rat/' width='100%' height='700'/>\n"
      ],
      "text/plain": [
       "<IPython.core.display.HTML object>"
      ]
     },
     "metadata": {},
     "output_type": "display_data"
    }
   ],
   "source": [
    "# Find more games on https://www.safekidgames.com/tag/html5/\n",
    "url = 'https://www.safekidgames.com/pac-rat/'\n",
    "newgame = '''\n",
    "<iframe src='%s' width='100%%' height='700'/>\n",
    "''' % (url)\n",
    "display(HTML(newgame))"
   ]
  },
  {
   "cell_type": "code",
   "execution_count": null,
   "metadata": {},
   "outputs": [],
   "source": []
  }
 ],
 "metadata": {
  "kernelspec": {
   "display_name": "Python 3 (ipykernel)",
   "language": "python",
   "name": "python3"
  },
  "language_info": {
   "codemirror_mode": {
    "name": "ipython",
    "version": 3
   },
   "file_extension": ".py",
   "mimetype": "text/x-python",
   "name": "python",
   "nbconvert_exporter": "python",
   "pygments_lexer": "ipython3",
   "version": "3.10.4"
  }
 },
 "nbformat": 4,
 "nbformat_minor": 4
}
